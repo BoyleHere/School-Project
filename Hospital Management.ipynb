{
 "cells": [
  {
   "cell_type": "code",
   "execution_count": 1,
   "metadata": {},
   "outputs": [
    {
     "name": "stdout",
     "output_type": "stream",
     "text": [
      "pygame 1.9.6\n",
      "Hello from the pygame community. https://www.pygame.org/contribute.html\n"
     ]
    }
   ],
   "source": [
    "#MODULES\n",
    "import pygame\n",
    "import random\n",
    "import math\n",
    "from pygame import mixer\n",
    "import mysql.connector"
   ]
  },
  {
   "cell_type": "code",
   "execution_count": 2,
   "metadata": {},
   "outputs": [],
   "source": [
    "#SQL CONNECTIVITY\n",
    "sql = mysql.connector.connect(host='localhost',database='schoolprojnew',user='root',password='A702#EldecO')\n",
    "\n",
    "cursor = sql.cursor()"
   ]
  },
  {
   "cell_type": "code",
   "execution_count": 3,
   "metadata": {},
   "outputs": [],
   "source": [
    "# checking for existing table\n",
    "cursor.execute('show tables')\n",
    "s = []\n",
    "for i in cursor.fetchall():\n",
    "    s.append(i[0])\n",
    "if 'scoretable' in s:\n",
    "    cursor.execute('drop table scoretable')\n",
    "    cursor.execute(\n",
    "        'create table scoretable(sno int NOT NULL,name varchar(25) NOT NULL,score int NOT NULL,PRIMARY KEY (sno))')\n",
    "else:\n",
    "    cursor.execute(\n",
    "        'create table scoretable(sno int NOT NULL,name varchar(25) NOT NULL,score int NOT NULL,PRIMARY KEY (sno))')"
   ]
  }
 ],
 "metadata": {
  "interpreter": {
   "hash": "4ae362c8e8fac3abd191208677fb669848ef783027ae44263bc4b38c9663cad0"
  },
  "kernelspec": {
   "display_name": "Python 3.7.6 64-bit",
   "language": "python",
   "name": "python3"
  },
  "language_info": {
   "codemirror_mode": {
    "name": "ipython",
    "version": 3
   },
   "file_extension": ".py",
   "mimetype": "text/x-python",
   "name": "python",
   "nbconvert_exporter": "python",
   "pygments_lexer": "ipython3",
   "version": "3.7.6"
  },
  "orig_nbformat": 4
 },
 "nbformat": 4,
 "nbformat_minor": 2
}
